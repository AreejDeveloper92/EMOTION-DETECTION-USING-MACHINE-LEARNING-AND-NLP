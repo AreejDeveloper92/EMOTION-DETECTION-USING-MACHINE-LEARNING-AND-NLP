{
  "cells": [
    {
      "cell_type": "markdown",
      "metadata": {
        "id": "dPOt6qqhYP7E"
      },
      "source": [
        "# **Emotion Detection from Text using NLP and Machine Learning**"
      ]
    },
    {
      "cell_type": "markdown",
      "metadata": {
        "id": "yL1bUQW-Ywpp"
      },
      "source": [
        "**DATASET LINK** :\n",
        " https://www.kaggle.com/datasets/praveengovi/emotions-dataset-for-nlp?"
      ]
    },
    {
      "cell_type": "markdown",
      "metadata": {
        "id": "Uz8ldBNNYYiR"
      },
      "source": [
        "📌 Project Overview\n",
        "\n",
        "This project focuses on Emotion Detection from Text using the Emotions dataset for NLP.\n",
        "The main goal is to build a machine learning model that can automatically classify text into different emotions such as happy, sad, angry, fear, love, and surprise.\n",
        "\n",
        "We are using the provided train, validation, and test datasets for model development.\n",
        "\n",
        "Train data → used to teach the model.\n",
        "\n",
        "Validation data → used to tune the model and prevent overfitting.\n",
        "\n",
        "Test data → used to evaluate the final model performance.\n",
        "\n",
        "By the end of this project, we will have a system that takes any text as input and predicts the underlying emotion, which can be applied in chatbots, customer support, and social media analysis."
      ]
    },
    {
      "cell_type": "code",
      "execution_count": null,
      "metadata": {
        "colab": {
          "background_save": true
        },
        "id": "DZlJanonXoxk",
        "outputId": "599e7d5e-7e21-416d-e6f2-943074929954"
      },
      "outputs": [
        {
          "name": "stdout",
          "output_type": "stream",
          "text": [
            "Mounted at /content/drive\n"
          ]
        }
      ],
      "source": [
        "from google.colab import drive\n",
        "drive.mount('/content/drive')\n"
      ]
    },
    {
      "cell_type": "code",
      "source": [
        "# code for unmount your drive\n",
        "from google.colab import drive\n",
        "drive.flush_and_unmount()\n"
      ],
      "metadata": {
        "colab": {
          "base_uri": "https://localhost:8080/"
        },
        "id": "dInCBIPQdqIb",
        "outputId": "f709a6b7-506b-4378-f072-a1fcfe8982c4"
      },
      "execution_count": null,
      "outputs": [
        {
          "output_type": "stream",
          "name": "stdout",
          "text": [
            "Drive not mounted, so nothing to flush and unmount.\n"
          ]
        }
      ]
    }
  ],
  "metadata": {
    "colab": {
      "provenance": []
    },
    "kernelspec": {
      "display_name": "Python 3",
      "name": "python3"
    },
    "language_info": {
      "name": "python"
    }
  },
  "nbformat": 4,
  "nbformat_minor": 0
}